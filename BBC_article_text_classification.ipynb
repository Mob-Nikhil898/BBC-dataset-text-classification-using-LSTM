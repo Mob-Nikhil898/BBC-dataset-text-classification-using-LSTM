{
  "nbformat": 4,
  "nbformat_minor": 0,
  "metadata": {
    "colab": {
      "name": "BBC_article_text_classification.ipynb",
      "provenance": [],
      "collapsed_sections": []
    },
    "kernelspec": {
      "name": "python3",
      "display_name": "Python 3"
    },
    "language_info": {
      "name": "python"
    }
  },
  "cells": [
    {
      "cell_type": "code",
      "metadata": {
        "id": "FogXANw7HZ02",
        "colab": {
          "base_uri": "https://localhost:8080/"
        },
        "outputId": "713ab7ce-ce7a-43c3-b09b-c38029e452ce"
      },
      "source": [
        " from google.colab import drive\n",
        "drive.mount('/content/gdrive')"
      ],
      "execution_count": 1,
      "outputs": [
        {
          "output_type": "stream",
          "name": "stdout",
          "text": [
            "Mounted at /content/gdrive\n"
          ]
        }
      ]
    },
    {
      "cell_type": "code",
      "metadata": {
        "id": "Ycx3SX28LGzL"
      },
      "source": [
        "import pandas as pd\n",
        "train=pd.read_csv('/content/gdrive/My Drive/Colab Notebooks/BBC News Train.csv')\n",
        "test=pd.read_csv('/content/gdrive/My Drive/Colab Notebooks/BBC News Test.csv')"
      ],
      "execution_count": 2,
      "outputs": []
    },
    {
      "cell_type": "code",
      "metadata": {
        "colab": {
          "base_uri": "https://localhost:8080/",
          "height": 206
        },
        "id": "7ZPQpDi9LssL",
        "outputId": "c842a1c0-727e-4efe-c498-d1e96b1c67ff"
      },
      "source": [
        "test.head()"
      ],
      "execution_count": 3,
      "outputs": [
        {
          "output_type": "execute_result",
          "data": {
            "text/html": [
              "<div>\n",
              "<style scoped>\n",
              "    .dataframe tbody tr th:only-of-type {\n",
              "        vertical-align: middle;\n",
              "    }\n",
              "\n",
              "    .dataframe tbody tr th {\n",
              "        vertical-align: top;\n",
              "    }\n",
              "\n",
              "    .dataframe thead th {\n",
              "        text-align: right;\n",
              "    }\n",
              "</style>\n",
              "<table border=\"1\" class=\"dataframe\">\n",
              "  <thead>\n",
              "    <tr style=\"text-align: right;\">\n",
              "      <th></th>\n",
              "      <th>ArticleId</th>\n",
              "      <th>Text</th>\n",
              "    </tr>\n",
              "  </thead>\n",
              "  <tbody>\n",
              "    <tr>\n",
              "      <th>0</th>\n",
              "      <td>1018</td>\n",
              "      <td>qpr keeper day heads for preston queens park r...</td>\n",
              "    </tr>\n",
              "    <tr>\n",
              "      <th>1</th>\n",
              "      <td>1319</td>\n",
              "      <td>software watching while you work software that...</td>\n",
              "    </tr>\n",
              "    <tr>\n",
              "      <th>2</th>\n",
              "      <td>1138</td>\n",
              "      <td>d arcy injury adds to ireland woe gordon d arc...</td>\n",
              "    </tr>\n",
              "    <tr>\n",
              "      <th>3</th>\n",
              "      <td>459</td>\n",
              "      <td>india s reliance family feud heats up the ongo...</td>\n",
              "    </tr>\n",
              "    <tr>\n",
              "      <th>4</th>\n",
              "      <td>1020</td>\n",
              "      <td>boro suffer morrison injury blow middlesbrough...</td>\n",
              "    </tr>\n",
              "  </tbody>\n",
              "</table>\n",
              "</div>"
            ],
            "text/plain": [
              "   ArticleId                                               Text\n",
              "0       1018  qpr keeper day heads for preston queens park r...\n",
              "1       1319  software watching while you work software that...\n",
              "2       1138  d arcy injury adds to ireland woe gordon d arc...\n",
              "3        459  india s reliance family feud heats up the ongo...\n",
              "4       1020  boro suffer morrison injury blow middlesbrough..."
            ]
          },
          "metadata": {},
          "execution_count": 3
        }
      ]
    },
    {
      "cell_type": "code",
      "metadata": {
        "id": "kQTSgH0jV9mD"
      },
      "source": [
        "train_x=list(train['Text'])\n",
        "test_x=list(test['Text'])\n",
        "train_y=list(train['Category'])"
      ],
      "execution_count": 22,
      "outputs": []
    },
    {
      "cell_type": "code",
      "metadata": {
        "id": "uxwvzd0TLyY8"
      },
      "source": [
        "import regex as re\n",
        "remove1= re.compile('[/(){}\\[\\]\\|@,;]')\n",
        "remove2= re.compile('[^0-9a-z #+_]')"
      ],
      "execution_count": 23,
      "outputs": []
    },
    {
      "cell_type": "code",
      "metadata": {
        "colab": {
          "base_uri": "https://localhost:8080/",
          "height": 140
        },
        "id": "3UPrdYhXL8tx",
        "outputId": "3a4cb5e6-9adc-4ed1-d90a-0771720f941b"
      },
      "source": [
        "train_x[0]"
      ],
      "execution_count": 24,
      "outputs": [
        {
          "output_type": "execute_result",
          "data": {
            "application/vnd.google.colaboratory.intrinsic+json": {
              "type": "string"
            },
            "text/plain": [
              "'worldcom ex-boss launches defence lawyers defending former worldcom chief bernie ebbers against a battery of fraud charges have called a company whistleblower as their first witness.  cynthia cooper  worldcom s ex-head of internal accounting  alerted directors to irregular accounting practices at the us telecoms giant in 2002. her warnings led to the collapse of the firm following the discovery of an $11bn (£5.7bn) accounting fraud. mr ebbers has pleaded not guilty to charges of fraud and conspiracy.  prosecution lawyers have argued that mr ebbers orchestrated a series of accounting tricks at worldcom  ordering employees to hide expenses and inflate revenues to meet wall street earnings estimates. but ms cooper  who now runs her own consulting business  told a jury in new york on wednesday that external auditors arthur andersen had approved worldcom s accounting in early 2001 and 2002. she said andersen had given a  green light  to the procedures and practices used by worldcom. mr ebber s lawyers have said he was unaware of the fraud  arguing that auditors did not alert him to any problems.  ms cooper also said that during shareholder meetings mr ebbers often passed over technical questions to the company s finance chief  giving only  brief  answers himself. the prosecution s star witness  former worldcom financial chief scott sullivan  has said that mr ebbers ordered accounting adjustments at the firm  telling him to  hit our books . however  ms cooper said mr sullivan had not mentioned  anything uncomfortable  about worldcom s accounting during a 2001 audit committee meeting. mr ebbers could face a jail sentence of 85 years if convicted of all the charges he is facing. worldcom emerged from bankruptcy protection in 2004  and is now known as mci. last week  mci agreed to a buyout by verizon communications in a deal valued at $6.75bn.'"
            ]
          },
          "metadata": {},
          "execution_count": 24
        }
      ]
    },
    {
      "cell_type": "code",
      "metadata": {
        "colab": {
          "base_uri": "https://localhost:8080/",
          "height": 226
        },
        "id": "jlofim63YE4M",
        "outputId": "b65590bf-0126-4ced-b83f-76a727f70c91"
      },
      "source": [
        "for i in range(len(train_x)):\n",
        "  train_x[i]=train_x[i].lower()\n",
        "  train_x[i]=remove1.sub(\" \", train_x[i])\n",
        "  train_x[i]=remove2.sub(\"\", train_x[i])\n",
        "train_x[0]"
      ],
      "execution_count": 25,
      "outputs": [
        {
          "output_type": "execute_result",
          "data": {
            "application/vnd.google.colaboratory.intrinsic+json": {
              "type": "string"
            },
            "text/plain": [
              "'worldcom exboss launches defence lawyers defending former worldcom chief bernie ebbers against a battery of fraud charges have called a company whistleblower as their first witness  cynthia cooper  worldcom s exhead of internal accounting  alerted directors to irregular accounting practices at the us telecoms giant in 2002 her warnings led to the collapse of the firm following the discovery of an 11bn  57bn  accounting fraud mr ebbers has pleaded not guilty to charges of fraud and conspiracy  prosecution lawyers have argued that mr ebbers orchestrated a series of accounting tricks at worldcom  ordering employees to hide expenses and inflate revenues to meet wall street earnings estimates but ms cooper  who now runs her own consulting business  told a jury in new york on wednesday that external auditors arthur andersen had approved worldcom s accounting in early 2001 and 2002 she said andersen had given a  green light  to the procedures and practices used by worldcom mr ebber s lawyers have said he was unaware of the fraud  arguing that auditors did not alert him to any problems  ms cooper also said that during shareholder meetings mr ebbers often passed over technical questions to the company s finance chief  giving only  brief  answers himself the prosecution s star witness  former worldcom financial chief scott sullivan  has said that mr ebbers ordered accounting adjustments at the firm  telling him to  hit our books  however  ms cooper said mr sullivan had not mentioned  anything uncomfortable  about worldcom s accounting during a 2001 audit committee meeting mr ebbers could face a jail sentence of 85 years if convicted of all the charges he is facing worldcom emerged from bankruptcy protection in 2004  and is now known as mci last week  mci agreed to a buyout by verizon communications in a deal valued at 675bn'"
            ]
          },
          "metadata": {},
          "execution_count": 25
        }
      ]
    },
    {
      "cell_type": "code",
      "metadata": {
        "colab": {
          "base_uri": "https://localhost:8080/"
        },
        "id": "yyUdokAKMAyk",
        "outputId": "7cafe091-706a-4d7a-b2a5-2c28059c3add"
      },
      "source": [
        "import nltk\n",
        "nltk.download()\n",
        "from nltk.corpus import stopwords\n",
        "stop_words = set(stopwords.words('english'))"
      ],
      "execution_count": 26,
      "outputs": [
        {
          "name": "stdout",
          "output_type": "stream",
          "text": [
            "NLTK Downloader\n",
            "---------------------------------------------------------------------------\n",
            "    d) Download   l) List    u) Update   c) Config   h) Help   q) Quit\n",
            "---------------------------------------------------------------------------\n",
            "Downloader> d\n",
            "\n",
            "Download which package (l=list; x=cancel)?\n",
            "  Identifier> q\n",
            "\n",
            "---------------------------------------------------------------------------\n",
            "    d) Download   l) List    u) Update   c) Config   h) Help   q) Quit\n",
            "---------------------------------------------------------------------------\n",
            "Downloader> q\n"
          ]
        }
      ]
    },
    {
      "cell_type": "code",
      "metadata": {
        "id": "6FLWSKwfM38c"
      },
      "source": [
        "for i in range(len(train_x)):\n",
        "  train_x[i]=train_x[i].split(' ')\n",
        "for i in range(len(test_x)):\n",
        "  test_x[i]=test_x[i].split(' ')"
      ],
      "execution_count": 27,
      "outputs": []
    },
    {
      "cell_type": "code",
      "metadata": {
        "id": "eq3Ue65IQW6f"
      },
      "source": [
        "from tensorflow.keras.preprocessing.text import Tokenizer\n",
        "from tensorflow.keras.preprocessing.sequence import pad_sequences\n",
        "tokenizer=Tokenizer(filters='[]{}#@!$%^&*()><?|', num_words=5000, lower=True)\n",
        "tokenizer.fit_on_texts(train_x)"
      ],
      "execution_count": 36,
      "outputs": []
    },
    {
      "cell_type": "code",
      "metadata": {
        "id": "AbXniUWtSAZ2",
        "colab": {
          "base_uri": "https://localhost:8080/"
        },
        "outputId": "ec8c1eb9-3a3d-4a52-d3e4-ef5c841f11b0"
      },
      "source": [
        "word_index=tokenizer.word_index\n",
        "len(word_index)"
      ],
      "execution_count": 37,
      "outputs": [
        {
          "output_type": "execute_result",
          "data": {
            "text/plain": [
              "27242"
            ]
          },
          "metadata": {},
          "execution_count": 37
        }
      ]
    },
    {
      "cell_type": "code",
      "metadata": {
        "id": "U8okLLaDnir4"
      },
      "source": [
        "X = tokenizer.texts_to_sequences(train_x)\n",
        "X = pad_sequences(X, maxlen=5000)\n",
        "Y=pd.get_dummies(train_y)"
      ],
      "execution_count": 38,
      "outputs": []
    },
    {
      "cell_type": "code",
      "metadata": {
        "colab": {
          "base_uri": "https://localhost:8080/"
        },
        "id": "08OaWQeusoHq",
        "outputId": "2889d8fc-14f2-41ca-ec30-42e52a7d3027"
      },
      "source": [
        "X.shape"
      ],
      "execution_count": 39,
      "outputs": [
        {
          "output_type": "execute_result",
          "data": {
            "text/plain": [
              "(1490, 5000)"
            ]
          },
          "metadata": {},
          "execution_count": 39
        }
      ]
    },
    {
      "cell_type": "code",
      "metadata": {
        "colab": {
          "base_uri": "https://localhost:8080/"
        },
        "id": "RNwfN2NPs-2O",
        "outputId": "01d8fd9e-2160-4cf5-a1c5-354abff83e2f"
      },
      "source": [
        "Y.shape"
      ],
      "execution_count": 40,
      "outputs": [
        {
          "output_type": "execute_result",
          "data": {
            "text/plain": [
              "(1490, 5)"
            ]
          },
          "metadata": {},
          "execution_count": 40
        }
      ]
    },
    {
      "cell_type": "code",
      "metadata": {
        "id": "LzHtguqUtATn"
      },
      "source": [
        "from sklearn.model_selection import train_test_split\n",
        "X_train, x_test, y_train, y_test= train_test_split(X, Y, test_size=0.2, random_state=42)"
      ],
      "execution_count": 42,
      "outputs": []
    },
    {
      "cell_type": "code",
      "metadata": {
        "id": "QsC69Pfvt9rt"
      },
      "source": [
        "from tensorflow.keras.models import Sequential\n",
        "from tensorflow.keras.layers import Dense, Embedding, LSTM, SpatialDropout1D\n",
        "def get_model():\n",
        "  model= Sequential([\n",
        "                   Embedding(5000, 100, input_length=X.shape[1]),\n",
        "                   SpatialDropout1D(0.2),\n",
        "                   LSTM(50, recurrent_dropout=0.2, dropout=0.2),\n",
        "                   Dense(5, activation='softmax')\n",
        "                   ])\n",
        "  return model"
      ],
      "execution_count": 62,
      "outputs": []
    },
    {
      "cell_type": "code",
      "metadata": {
        "id": "W-eFZuICuOyc"
      },
      "source": [
        "model=get_model()\n",
        "model.compile(loss='categorical_crossentropy', optimizer='adam', metrics=['accuracy'])"
      ],
      "execution_count": 63,
      "outputs": []
    },
    {
      "cell_type": "code",
      "metadata": {
        "colab": {
          "base_uri": "https://localhost:8080/"
        },
        "id": "wDHahB-OwN7s",
        "outputId": "f01cbb1f-d769-435d-d765-901efb3ba6e3"
      },
      "source": [
        "history= model.fit(X_train, y_train, validation_split=0.1, epochs=10)"
      ],
      "execution_count": 64,
      "outputs": [
        {
          "output_type": "stream",
          "name": "stdout",
          "text": [
            "Epoch 1/10\n",
            "34/34 [==============================] - 275s 8s/step - loss: 1.6019 - accuracy: 0.2472 - val_loss: 1.5784 - val_accuracy: 0.2500\n",
            "Epoch 2/10\n",
            "34/34 [==============================] - 271s 8s/step - loss: 1.3249 - accuracy: 0.4039 - val_loss: 1.1315 - val_accuracy: 0.4667\n",
            "Epoch 3/10\n",
            "34/34 [==============================] - 272s 8s/step - loss: 1.0757 - accuracy: 0.4496 - val_loss: 1.0111 - val_accuracy: 0.4750\n",
            "Epoch 4/10\n",
            "34/34 [==============================] - 272s 8s/step - loss: 0.9384 - accuracy: 0.5196 - val_loss: 0.9255 - val_accuracy: 0.5417\n",
            "Epoch 5/10\n",
            "34/34 [==============================] - 271s 8s/step - loss: 0.8057 - accuracy: 0.7211 - val_loss: 0.9374 - val_accuracy: 0.6667\n",
            "Epoch 6/10\n",
            "34/34 [==============================] - 271s 8s/step - loss: 0.5618 - accuracy: 0.8955 - val_loss: 0.8883 - val_accuracy: 0.6833\n",
            "Epoch 7/10\n",
            "34/34 [==============================] - 271s 8s/step - loss: 0.3644 - accuracy: 0.9580 - val_loss: 0.5168 - val_accuracy: 0.8333\n",
            "Epoch 8/10\n",
            "34/34 [==============================] - 271s 8s/step - loss: 0.2222 - accuracy: 0.9655 - val_loss: 0.5023 - val_accuracy: 0.8250\n",
            "Epoch 9/10\n",
            "34/34 [==============================] - 272s 8s/step - loss: 0.1220 - accuracy: 0.9888 - val_loss: 0.4700 - val_accuracy: 0.8167\n",
            "Epoch 10/10\n",
            "34/34 [==============================] - 271s 8s/step - loss: 0.0556 - accuracy: 0.9972 - val_loss: 0.3970 - val_accuracy: 0.8583\n"
          ]
        }
      ]
    },
    {
      "cell_type": "code",
      "metadata": {
        "colab": {
          "base_uri": "https://localhost:8080/",
          "height": 295
        },
        "id": "ErP9UBNmwvnk",
        "outputId": "0178dca8-11cb-49e4-844d-a10deb9eaf3b"
      },
      "source": [
        "import matplotlib.pyplot as plt\n",
        "plt.plot(history.history['loss'])\n",
        "plt.plot(history.history['val_loss'])\n",
        "plt.title(\"Loss Vs Epochs\")\n",
        "plt.ylabel('Loss')\n",
        "plt.xlabel('Epochs')\n",
        "plt.legend(['Training Loss', 'Validation Loss'], loc='upper right')\n",
        "plt.show()"
      ],
      "execution_count": 65,
      "outputs": [
        {
          "output_type": "display_data",
          "data": {
            "image/png": "[encoded data removed]",
            "text/plain": [
              "<Figure size 432x288 with 1 Axes>"
            ]
          },
          "metadata": {
            "needs_background": "light"
          }
        }
      ]
    },
    {
      "cell_type": "code",
      "metadata": {
        "colab": {
          "base_uri": "https://localhost:8080/"
        },
        "id": "XuTLmWA2lcco",
        "outputId": "aa669100-255a-4ba3-9b3e-e02bfcdad962"
      },
      "source": [
        "acc=model.evaluate(x_test, y_test)"
      ],
      "execution_count": 66,
      "outputs": [
        {
          "output_type": "stream",
          "name": "stdout",
          "text": [
            "10/10 [==============================] - 7s 673ms/step - loss: 0.3046 - accuracy: 0.9094\n"
          ]
        }
      ]
    },
    {
      "cell_type": "code",
      "metadata": {
        "id": "wjWDH_4rzMw2"
      },
      "source": [
        ""
      ],
      "execution_count": null,
      "outputs": []
    }
  ]
}